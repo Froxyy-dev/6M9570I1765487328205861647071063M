{
 "cells": [
  {
   "cell_type": "code",
   "id": "a5f0308a-eeab-4c2a-a44d-6165ebe394ba",
   "metadata": {
    "ExecuteTime": {
     "end_time": "2024-04-20T16:01:38.354774919Z",
     "start_time": "2024-04-20T16:01:38.335020382Z"
    }
   },
   "source": [
    "import os\n",
    "import random\n",
    "\n",
    "import pandas as pd\n",
    "import numpy as np\n",
    "\n",
    "import sklearn\n",
    "from sklearn.metrics import accuracy_score, confusion_matrix, precision_score, recall_score, ConfusionMatrixDisplay, \\\n",
    "    classification_report\n",
    "from sklearn.model_selection import train_test_split\n",
    "from sklearn.compose import make_column_transformer\n",
    "from sklearn.pipeline import make_pipeline\n",
    "from feature_engine.datetime import DatetimeFeatures\n",
    "from catboost import CatBoostClassifier\n",
    "import matplotlib.pyplot as plt\n"
   ],
   "outputs": [],
   "execution_count": 157
  },
  {
   "cell_type": "code",
   "source": [
    "sklearn.set_config(transform_output=\"pandas\")"
   ],
   "metadata": {
    "collapsed": false,
    "ExecuteTime": {
     "end_time": "2024-04-20T15:27:39.269679524Z",
     "start_time": "2024-04-20T15:27:39.234029920Z"
    }
   },
   "id": "f7fc9f3702352cc0",
   "outputs": [],
   "execution_count": 58
  },
  {
   "cell_type": "code",
   "source": [
    "seed = 2137\n",
    "np.random.seed(seed)\n",
    "os.environ[\"PYTHONHASHSEED\"] = str(seed)\n",
    "random.seed(seed)"
   ],
   "metadata": {
    "collapsed": false,
    "ExecuteTime": {
     "end_time": "2024-04-20T15:27:40.358343334Z",
     "start_time": "2024-04-20T15:27:40.331108797Z"
    }
   },
   "id": "94ab4a0bca9f1d6f",
   "outputs": [],
   "execution_count": 59
  },
  {
   "cell_type": "markdown",
   "source": [
    "## Load data"
   ],
   "metadata": {
    "collapsed": false
   },
   "id": "76f7f9362be699a3"
  },
  {
   "cell_type": "code",
   "source": [
    "from ydata_profiling import ProfileReport\n",
    "\n",
    "train_raw = pd.read_excel(\"../ecomm-data/E Commerce Dataset.xlsx\", sheet_name='E Comm')\n",
    "# ProfileReport(train_raw).to_file('report.html')"
   ],
   "metadata": {
    "collapsed": false,
    "ExecuteTime": {
     "end_time": "2024-04-20T15:58:48.971034027Z",
     "start_time": "2024-04-20T15:58:41.768472883Z"
    }
   },
   "id": "d905d5174e06bb4e",
   "outputs": [],
   "execution_count": 130
  },
  {
   "cell_type": "code",
   "source": [
    "train = train_raw.dropna()\n",
    "plt.scatter(train['DaySinceLastOrder'], train['Churn'])\n",
    "plt.show()"
   ],
   "metadata": {
    "collapsed": false,
    "ExecuteTime": {
     "end_time": "2024-04-20T15:58:48.971580456Z",
     "start_time": "2024-04-20T15:58:48.937623373Z"
    }
   },
   "id": "14c6d212ec0e8198",
   "outputs": [
    {
     "name": "stderr",
     "output_type": "stream",
     "text": [
      "/tmp/ipykernel_5927/4177773304.py:3: UserWarning: FigureCanvasAgg is non-interactive, and thus cannot be shown\n",
      "  plt.show()\n"
     ]
    }
   ],
   "execution_count": 131
  },
  {
   "cell_type": "code",
   "source": [
    "TARGET = \"Churn\""
   ],
   "metadata": {
    "collapsed": false,
    "ExecuteTime": {
     "end_time": "2024-04-20T15:58:48.981515836Z",
     "start_time": "2024-04-20T15:58:48.975455114Z"
    }
   },
   "id": "49aea3d7f7a3341b",
   "outputs": [],
   "execution_count": 132
  },
  {
   "metadata": {
    "ExecuteTime": {
     "end_time": "2024-04-20T15:58:49.189038274Z",
     "start_time": "2024-04-20T15:58:49.133971291Z"
    }
   },
   "cell_type": "code",
   "source": [
    "features = ['Tenure', 'PreferredPaymentMode', 'Gender', 'HourSpendOnApp', 'PreferedOrderCat', 'SatisfactionScore', 'CouponUsed', 'OrderCount', 'DaySinceLastOrder']\n",
    "cat_features = ['PreferredPaymentMode', 'Gender', 'PreferedOrderCat']\n"
   ],
   "id": "cdb8bee54dcf1b01",
   "outputs": [],
   "execution_count": 133
  },
  {
   "cell_type": "code",
   "source": [
    "y = train[TARGET]\n",
    "X = train[features]"
   ],
   "metadata": {
    "collapsed": false,
    "ExecuteTime": {
     "end_time": "2024-04-20T15:59:26.551643713Z",
     "start_time": "2024-04-20T15:59:26.537922174Z"
    }
   },
   "id": "e8e72c28c629e73a",
   "outputs": [],
   "execution_count": 142
  },
  {
   "cell_type": "code",
   "source": [
    "X_train, X_test, y_train, y_test = train_test_split(X, y, test_size=0.2, random_state=seed)"
   ],
   "metadata": {
    "collapsed": false,
    "ExecuteTime": {
     "end_time": "2024-04-20T15:59:26.684642632Z",
     "start_time": "2024-04-20T15:59:26.671932422Z"
    }
   },
   "id": "ac501d92298081e3",
   "outputs": [],
   "execution_count": 143
  },
  {
   "cell_type": "markdown",
   "source": [
    "## Modelling\n",
    "\n",
    "- date features extraction"
   ],
   "metadata": {
    "collapsed": false
   },
   "id": "7de11039d8f0a483"
  },
  {
   "cell_type": "markdown",
   "source": [
    "### Attempt 1"
   ],
   "metadata": {
    "collapsed": false
   },
   "id": "177681fa84190932"
  },
  {
   "cell_type": "code",
   "execution_count": 144,
   "outputs": [],
   "source": [
    "# dtf = DatetimeFeatures(features_to_extract=[\"year\", \"month\", \"day_of_month\", \"day_of_week\"])\n",
    "\n",
    "# ct = make_column_transformer((dtf, [\"Date\"]), remainder=\"passthrough\", verbose_feature_names_out=False)\n",
    "\n",
    "# preprocessor = make_pipeline(ct)\n"
   ],
   "metadata": {
    "collapsed": false,
    "ExecuteTime": {
     "end_time": "2024-04-20T15:59:26.995175800Z",
     "start_time": "2024-04-20T15:59:26.986315078Z"
    }
   }
  },
  {
   "cell_type": "code",
   "execution_count": 192,
   "outputs": [],
   "source": [
    "DEFAULT_MODEL_CONFIG = {\n",
    "    \"iterations\": 5000,\n",
    "    \"depth\": 3,\n",
    "    \"learning_rate\": 0.05,\n",
    "    \"verbose\": 250,\n",
    "    \"random_seed\": seed,\n",
    "    \"auto_class_weights\": \"SqrtBalanced\",\n",
    "}"
   ],
   "metadata": {
    "collapsed": false,
    "ExecuteTime": {
     "end_time": "2024-04-20T16:10:24.854113148Z",
     "start_time": "2024-04-20T16:10:24.842638733Z"
    }
   }
  },
  {
   "cell_type": "code",
   "execution_count": 193,
   "outputs": [],
   "source": [
    "model = CatBoostClassifier(**DEFAULT_MODEL_CONFIG, cat_features=cat_features)"
   ],
   "metadata": {
    "collapsed": false,
    "ExecuteTime": {
     "end_time": "2024-04-20T16:10:25.014479640Z",
     "start_time": "2024-04-20T16:10:24.965754508Z"
    }
   }
  },
  {
   "cell_type": "code",
   "execution_count": 194,
   "outputs": [
    {
     "data": {
      "text/plain": "      Tenure PreferredPaymentMode  Gender  HourSpendOnApp    PreferedOrderCat  \\\n4191    18.0                  UPI    Male             3.0  Laptop & Accessory   \n3346     1.0           Debit Card    Male             3.0        Mobile Phone   \n582     20.0          Credit Card    Male             3.0  Laptop & Accessory   \n3542     3.0          Credit Card  Female             3.0        Mobile Phone   \n526     20.0             E wallet  Female             2.0  Laptop & Accessory   \n\n      SatisfactionScore  CouponUsed  OrderCount  DaySinceLastOrder  \n4191                  1         1.0         2.0                4.0  \n3346                  2         2.0         2.0                2.0  \n582                   3         0.0         2.0                7.0  \n3542                  2         1.0         2.0                9.0  \n526                   2         5.0         7.0                7.0  ",
      "text/html": "<div>\n<style scoped>\n    .dataframe tbody tr th:only-of-type {\n        vertical-align: middle;\n    }\n\n    .dataframe tbody tr th {\n        vertical-align: top;\n    }\n\n    .dataframe thead th {\n        text-align: right;\n    }\n</style>\n<table border=\"1\" class=\"dataframe\">\n  <thead>\n    <tr style=\"text-align: right;\">\n      <th></th>\n      <th>Tenure</th>\n      <th>PreferredPaymentMode</th>\n      <th>Gender</th>\n      <th>HourSpendOnApp</th>\n      <th>PreferedOrderCat</th>\n      <th>SatisfactionScore</th>\n      <th>CouponUsed</th>\n      <th>OrderCount</th>\n      <th>DaySinceLastOrder</th>\n    </tr>\n  </thead>\n  <tbody>\n    <tr>\n      <th>4191</th>\n      <td>18.0</td>\n      <td>UPI</td>\n      <td>Male</td>\n      <td>3.0</td>\n      <td>Laptop &amp; Accessory</td>\n      <td>1</td>\n      <td>1.0</td>\n      <td>2.0</td>\n      <td>4.0</td>\n    </tr>\n    <tr>\n      <th>3346</th>\n      <td>1.0</td>\n      <td>Debit Card</td>\n      <td>Male</td>\n      <td>3.0</td>\n      <td>Mobile Phone</td>\n      <td>2</td>\n      <td>2.0</td>\n      <td>2.0</td>\n      <td>2.0</td>\n    </tr>\n    <tr>\n      <th>582</th>\n      <td>20.0</td>\n      <td>Credit Card</td>\n      <td>Male</td>\n      <td>3.0</td>\n      <td>Laptop &amp; Accessory</td>\n      <td>3</td>\n      <td>0.0</td>\n      <td>2.0</td>\n      <td>7.0</td>\n    </tr>\n    <tr>\n      <th>3542</th>\n      <td>3.0</td>\n      <td>Credit Card</td>\n      <td>Female</td>\n      <td>3.0</td>\n      <td>Mobile Phone</td>\n      <td>2</td>\n      <td>1.0</td>\n      <td>2.0</td>\n      <td>9.0</td>\n    </tr>\n    <tr>\n      <th>526</th>\n      <td>20.0</td>\n      <td>E wallet</td>\n      <td>Female</td>\n      <td>2.0</td>\n      <td>Laptop &amp; Accessory</td>\n      <td>2</td>\n      <td>5.0</td>\n      <td>7.0</td>\n      <td>7.0</td>\n    </tr>\n  </tbody>\n</table>\n</div>"
     },
     "execution_count": 194,
     "metadata": {},
     "output_type": "execute_result"
    }
   ],
   "source": [
    "X_train.head()"
   ],
   "metadata": {
    "collapsed": false,
    "ExecuteTime": {
     "end_time": "2024-04-20T16:10:25.186911359Z",
     "start_time": "2024-04-20T16:10:25.143636Z"
    }
   }
  },
  {
   "cell_type": "code",
   "id": "754373c8-bef0-424a-8855-af66c9cd6df0",
   "metadata": {
    "ExecuteTime": {
     "end_time": "2024-04-20T16:11:09.053370208Z",
     "start_time": "2024-04-20T16:10:26.175022244Z"
    }
   },
   "source": [
    "model.fit(X_train, y_train)"
   ],
   "outputs": [
    {
     "name": "stdout",
     "output_type": "stream",
     "text": [
      "0:\tlearn: 0.6653559\ttotal: 16.1ms\tremaining: 1m 20s\n",
      "250:\tlearn: 0.3353794\ttotal: 1.44s\tremaining: 27.2s\n",
      "500:\tlearn: 0.2996654\ttotal: 3.44s\tremaining: 30.9s\n",
      "750:\tlearn: 0.2754135\ttotal: 4.9s\tremaining: 27.7s\n",
      "1000:\tlearn: 0.2571949\ttotal: 6.13s\tremaining: 24.5s\n",
      "1250:\tlearn: 0.2427882\ttotal: 7.1s\tremaining: 21.3s\n",
      "1500:\tlearn: 0.2310749\ttotal: 9.65s\tremaining: 22.5s\n",
      "1750:\tlearn: 0.2208000\ttotal: 11.9s\tremaining: 22s\n",
      "2000:\tlearn: 0.2127036\ttotal: 13.1s\tremaining: 19.6s\n",
      "2250:\tlearn: 0.2051192\ttotal: 14.7s\tremaining: 17.9s\n",
      "2500:\tlearn: 0.1983627\ttotal: 18s\tremaining: 18s\n",
      "2750:\tlearn: 0.1913076\ttotal: 20.8s\tremaining: 17s\n",
      "3000:\tlearn: 0.1854807\ttotal: 23.4s\tremaining: 15.6s\n",
      "3250:\tlearn: 0.1805680\ttotal: 25.3s\tremaining: 13.6s\n",
      "3500:\tlearn: 0.1761219\ttotal: 28.6s\tremaining: 12.3s\n",
      "3750:\tlearn: 0.1714033\ttotal: 30.9s\tremaining: 10.3s\n",
      "4000:\tlearn: 0.1669203\ttotal: 32.7s\tremaining: 8.17s\n",
      "4250:\tlearn: 0.1628560\ttotal: 35.1s\tremaining: 6.19s\n",
      "4500:\tlearn: 0.1580341\ttotal: 37.4s\tremaining: 4.14s\n",
      "4750:\tlearn: 0.1536119\ttotal: 39.7s\tremaining: 2.08s\n",
      "4999:\tlearn: 0.1493922\ttotal: 41.8s\tremaining: 0us\n"
     ]
    },
    {
     "data": {
      "text/plain": "<catboost.core.CatBoostClassifier at 0x7f2f02437eb0>"
     },
     "execution_count": 195,
     "metadata": {},
     "output_type": "execute_result"
    }
   ],
   "execution_count": 195
  },
  {
   "cell_type": "code",
   "id": "70f53277-21d0-47e7-9160-e8e5f8a43a44",
   "metadata": {
    "ExecuteTime": {
     "end_time": "2024-04-20T16:11:12.681743638Z",
     "start_time": "2024-04-20T16:11:12.619908387Z"
    }
   },
   "source": [
    "y_pred = model.predict(X_test)"
   ],
   "outputs": [],
   "execution_count": 197
  },
  {
   "cell_type": "code",
   "id": "76d67dd6-52c7-4602-9762-36d5b7d5e559",
   "metadata": {
    "ExecuteTime": {
     "end_time": "2024-04-20T16:11:13.317602653Z",
     "start_time": "2024-04-20T16:11:13.255509523Z"
    }
   },
   "source": [
    "print(classification_report(y_test, y_pred))"
   ],
   "outputs": [
    {
     "name": "stdout",
     "output_type": "stream",
     "text": [
      "              precision    recall  f1-score   support\n",
      "\n",
      "           0       0.94      0.91      0.93       630\n",
      "           1       0.62      0.70      0.65       125\n",
      "\n",
      "    accuracy                           0.88       755\n",
      "   macro avg       0.78      0.81      0.79       755\n",
      "weighted avg       0.88      0.88      0.88       755\n",
      "\n"
     ]
    }
   ],
   "execution_count": 198
  },
  {
   "cell_type": "markdown",
   "source": [
    "### Attempt 2"
   ],
   "metadata": {
    "collapsed": false
   },
   "id": "15cd0100906a3f02"
  },
  {
   "cell_type": "code",
   "source": [
    "dtf = DatetimeFeatures(features_to_extract=[\"year\", \"month\", \"day_of_month\", \"day_of_week\"])\n",
    "\n",
    "ct = make_column_transformer((dtf, [\"Date\"]), remainder=\"passthrough\", verbose_feature_names_out=False)\n",
    "\n",
    "preprocessor = make_pipeline(ct)\n"
   ],
   "metadata": {
    "collapsed": false,
    "ExecuteTime": {
     "end_time": "2024-04-19T15:39:28.428531Z",
     "start_time": "2024-04-19T15:39:28.424611Z"
    }
   },
   "id": "e7318ffc6514ce33",
   "outputs": [],
   "execution_count": 79
  },
  {
   "cell_type": "code",
   "source": [
    "DEFAULT_MODEL_CONFIG = {\n",
    "    \"early_stopping_rounds\": 50,\n",
    "    \"use_best_model\": True,\n",
    "    \"depth\": 4,\n",
    "    \"learning_rate\": 0.01,\n",
    "    \"verbose\": 250,\n",
    "    \"random_seed\": seed,\n",
    "}"
   ],
   "metadata": {
    "collapsed": false,
    "ExecuteTime": {
     "end_time": "2024-04-19T15:39:29.111266Z",
     "start_time": "2024-04-19T15:39:29.105952Z"
    }
   },
   "id": "30b424d191fb2678",
   "outputs": [],
   "execution_count": 80
  },
  {
   "cell_type": "code",
   "source": [
    "model = CatBoostClassifier(**DEFAULT_MODEL_CONFIG, eval_metric=\"Accuracy\", cat_features=[\"Sector\"])"
   ],
   "metadata": {
    "collapsed": false,
    "ExecuteTime": {
     "end_time": "2024-04-19T15:39:33.031698Z",
     "start_time": "2024-04-19T15:39:33.022177Z"
    }
   },
   "id": "f83433e91aa37a46",
   "outputs": [],
   "execution_count": 81
  },
  {
   "cell_type": "code",
   "source": [
    "model.fit(preprocessor.fit_transform(X_train), y_train, eval_set=(preprocessor.fit_transform(X_test), y_test))"
   ],
   "metadata": {
    "collapsed": false,
    "ExecuteTime": {
     "end_time": "2024-04-19T15:39:34.747589Z",
     "start_time": "2024-04-19T15:39:33.996681Z"
    }
   },
   "id": "c1a39c12cc4e26a6",
   "outputs": [
    {
     "name": "stdout",
     "output_type": "stream",
     "text": [
      "0:\tlearn: 0.4857363\ttest: 0.3815385\tbest: 0.3815385 (0)\ttotal: 6.67ms\tremaining: 6.66s\n",
      "Stopped by overfitting detector  (50 iterations wait)\n",
      "\n",
      "bestTest = 0.4338461538\n",
      "bestIteration = 67\n",
      "\n",
      "Shrink model to first 68 iterations.\n"
     ]
    },
    {
     "data": {
      "text/plain": [
       "<catboost.core.CatBoostClassifier at 0x7031198cb2b0>"
      ]
     },
     "execution_count": 82,
     "metadata": {},
     "output_type": "execute_result"
    }
   ],
   "execution_count": 82
  },
  {
   "cell_type": "code",
   "source": [
    "y_pred = model.predict(preprocessor.fit_transform(X_test))"
   ],
   "metadata": {
    "collapsed": false,
    "ExecuteTime": {
     "end_time": "2024-04-19T15:39:37.352230Z",
     "start_time": "2024-04-19T15:39:37.325108Z"
    }
   },
   "id": "2a3adb72af632a4c",
   "outputs": [],
   "execution_count": 83
  },
  {
   "cell_type": "code",
   "source": [
    "accuracy = accuracy_score(y_test, y_pred)\n",
    "print(\"Accuracy:\", accuracy)"
   ],
   "metadata": {
    "collapsed": false,
    "ExecuteTime": {
     "end_time": "2024-04-19T15:39:38.117672Z",
     "start_time": "2024-04-19T15:39:38.111819Z"
    }
   },
   "id": "f4666b431e34102",
   "outputs": [
    {
     "name": "stdout",
     "output_type": "stream",
     "text": [
      "Accuracy: 0.4338461538461538\n"
     ]
    }
   ],
   "execution_count": 84
  },
  {
   "cell_type": "code",
   "execution_count": null,
   "outputs": [],
   "source": [],
   "metadata": {
    "collapsed": false
   },
   "id": "c7d2063db10035f8"
  }
 ],
 "metadata": {
  "kernelspec": {
   "display_name": "Python 3 (ipykernel)",
   "language": "python",
   "name": "python3"
  },
  "language_info": {
   "codemirror_mode": {
    "name": "ipython",
    "version": 3
   },
   "file_extension": ".py",
   "mimetype": "text/x-python",
   "name": "python",
   "nbconvert_exporter": "python",
   "pygments_lexer": "ipython3",
   "version": "3.12.1"
  }
 },
 "nbformat": 4,
 "nbformat_minor": 5
}
