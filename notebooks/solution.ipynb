{
 "cells": [
  {
   "cell_type": "markdown",
   "id": "7f5a17a8010af318",
   "metadata": {},
   "source": [
    "## Install dependencies"
   ]
  },
  {
   "cell_type": "code",
   "execution_count": 3,
   "id": "initial_id",
   "metadata": {
    "ExecuteTime": {
     "end_time": "2024-04-20T20:24:07.520754Z",
     "start_time": "2024-04-20T20:24:07.516095Z"
    },
    "collapsed": true
   },
   "outputs": [],
   "source": [
    "%matplotlib inline\n",
    "import pandas as pd\n",
    "import numpy as np\n",
    "import matplotlib.pyplot as plt\n",
    "from ydata_profiling import ProfileReport\n"
   ]
  },
  {
   "cell_type": "markdown",
   "id": "4f32b2709703034e",
   "metadata": {},
   "source": []
  },
  {
   "cell_type": "markdown",
   "id": "88779ae9c798d614",
   "metadata": {},
   "source": [
    "# Read dataset"
   ]
  },
  {
   "cell_type": "code",
   "execution_count": 4,
   "id": "189ede2f6e6d01a8",
   "metadata": {
    "ExecuteTime": {
     "end_time": "2024-04-20T19:51:26.786479Z",
     "start_time": "2024-04-20T19:51:26.437422Z"
    }
   },
   "outputs": [
    {
     "name": "stdout",
     "output_type": "stream",
     "text": [
      "<class 'pandas.core.frame.DataFrame'>\n",
      "RangeIndex: 51047 entries, 0 to 51046\n",
      "Data columns (total 58 columns):\n",
      " #   Column                     Non-Null Count  Dtype  \n",
      "---  ------                     --------------  -----  \n",
      " 0   CustomerID                 51047 non-null  int64  \n",
      " 1   Churn                      51047 non-null  object \n",
      " 2   MonthlyRevenue             50891 non-null  float64\n",
      " 3   MonthlyMinutes             50891 non-null  float64\n",
      " 4   TotalRecurringCharge       50891 non-null  float64\n",
      " 5   DirectorAssistedCalls      50891 non-null  float64\n",
      " 6   OverageMinutes             50891 non-null  float64\n",
      " 7   RoamingCalls               50891 non-null  float64\n",
      " 8   PercChangeMinutes          50680 non-null  float64\n",
      " 9   PercChangeRevenues         50680 non-null  float64\n",
      " 10  DroppedCalls               51047 non-null  float64\n",
      " 11  BlockedCalls               51047 non-null  float64\n",
      " 12  UnansweredCalls            51047 non-null  float64\n",
      " 13  CustomerCareCalls          51047 non-null  float64\n",
      " 14  ThreewayCalls              51047 non-null  float64\n",
      " 15  ReceivedCalls              51047 non-null  float64\n",
      " 16  OutboundCalls              51047 non-null  float64\n",
      " 17  InboundCalls               51047 non-null  float64\n",
      " 18  PeakCallsInOut             51047 non-null  float64\n",
      " 19  OffPeakCallsInOut          51047 non-null  float64\n",
      " 20  DroppedBlockedCalls        51047 non-null  float64\n",
      " 21  CallForwardingCalls        51047 non-null  float64\n",
      " 22  CallWaitingCalls           51047 non-null  float64\n",
      " 23  MonthsInService            51047 non-null  int64  \n",
      " 24  UniqueSubs                 51047 non-null  int64  \n",
      " 25  ActiveSubs                 51047 non-null  int64  \n",
      " 26  ServiceArea                51023 non-null  object \n",
      " 27  Handsets                   51046 non-null  float64\n",
      " 28  HandsetModels              51046 non-null  float64\n",
      " 29  CurrentEquipmentDays       51046 non-null  float64\n",
      " 30  AgeHH1                     50138 non-null  float64\n",
      " 31  AgeHH2                     50138 non-null  float64\n",
      " 32  ChildrenInHH               51047 non-null  object \n",
      " 33  HandsetRefurbished         51047 non-null  object \n",
      " 34  HandsetWebCapable          51047 non-null  object \n",
      " 35  TruckOwner                 51047 non-null  object \n",
      " 36  RVOwner                    51047 non-null  object \n",
      " 37  Homeownership              51047 non-null  object \n",
      " 38  BuysViaMailOrder           51047 non-null  object \n",
      " 39  RespondsToMailOffers       51047 non-null  object \n",
      " 40  OptOutMailings             51047 non-null  object \n",
      " 41  NonUSTravel                51047 non-null  object \n",
      " 42  OwnsComputer               51047 non-null  object \n",
      " 43  HasCreditCard              51047 non-null  object \n",
      " 44  RetentionCalls             51047 non-null  int64  \n",
      " 45  RetentionOffersAccepted    51047 non-null  int64  \n",
      " 46  NewCellphoneUser           51047 non-null  object \n",
      " 47  NotNewCellphoneUser        51047 non-null  object \n",
      " 48  ReferralsMadeBySubscriber  51047 non-null  int64  \n",
      " 49  IncomeGroup                51047 non-null  int64  \n",
      " 50  OwnsMotorcycle             51047 non-null  object \n",
      " 51  AdjustmentsToCreditRating  51047 non-null  int64  \n",
      " 52  HandsetPrice               51047 non-null  object \n",
      " 53  MadeCallToRetentionTeam    51047 non-null  object \n",
      " 54  CreditRating               51047 non-null  object \n",
      " 55  PrizmCode                  51047 non-null  object \n",
      " 56  Occupation                 51047 non-null  object \n",
      " 57  MaritalStatus              51047 non-null  object \n",
      "dtypes: float64(26), int64(9), object(23)\n",
      "memory usage: 22.6+ MB\n"
     ]
    }
   ],
   "source": [
    "train = pd.read_csv('../data/cell2celltrain.csv')\n",
    "df = train.copy()\n",
    "\n",
    "df.info()"
   ]
  },
  {
   "cell_type": "markdown",
   "id": "f8ea1ae7917a770f",
   "metadata": {},
   "source": [
    "## Handle Missing Numerical by assigning mean"
   ]
  },
  {
   "cell_type": "code",
   "execution_count": 5,
   "id": "36ed1b4e0f435826",
   "metadata": {
    "ExecuteTime": {
     "end_time": "2024-04-20T17:40:38.862836Z",
     "start_time": "2024-04-20T17:40:38.854115Z"
    }
   },
   "outputs": [],
   "source": [
    "num_columns_missing = [\n",
    "    'Tenure',\n",
    "    'WarehouseToHome',\n",
    "    'HourSpendOnApp',\n",
    "    'OrderAmountHikeFromlastYear',\n",
    "    'CouponUsed',\n",
    "    'OrderCount',\n",
    "    'DaySinceLastOrder'\n",
    "]\n",
    "\n",
    "def handle_missing_values(column_name):\n",
    "    # Adding column indicating missing value.\n",
    "    df[f\"{column_name}_missing\"] = df[column_name].isnull().astype(int)\n",
    "    \n",
    "    # Filling missing values with mean.\n",
    "    mean_value = df[column_name].mean()\n",
    "    \n",
    "    if df[column_name].dtype == 'int64':\n",
    "        mean_value = round(mean_value)\n",
    "    \n",
    "    df[column_name].fillna(mean_value, inplace=True)\n",
    "\n",
    "\n",
    "# for column in num_columns_missing:\n",
    "#     handle_missing_values(column)"
   ]
  },
  {
   "cell_type": "markdown",
   "id": "990c01c57d040549",
   "metadata": {},
   "source": [
    "## YData Profiling Report"
   ]
  },
  {
   "cell_type": "markdown",
   "id": "b72216f9b243bcc7",
   "metadata": {},
   "source": [
    "## Autoviz Report"
   ]
  },
  {
   "cell_type": "markdown",
   "id": "50d24ce334d05f46",
   "metadata": {},
   "source": [
    "## SWEETVIZ Report"
   ]
  },
  {
   "cell_type": "markdown",
   "id": "6cb1d7d806f64849",
   "metadata": {},
   "source": []
  },
  {
   "cell_type": "markdown",
   "id": "1e1b8dc06cf62ec1",
   "metadata": {},
   "source": [
    "## Data Analysis"
   ]
  },
  {
   "cell_type": "code",
   "execution_count": null,
   "id": "547e53f49cf41340",
   "metadata": {
    "ExecuteTime": {
     "end_time": "2024-04-20T20:01:02.783172Z",
     "start_time": "2024-04-20T20:01:02.726375Z"
    }
   },
   "outputs": [],
   "source": [
    "df.info()"
   ]
  },
  {
   "cell_type": "code",
   "execution_count": null,
   "id": "f182ed3c37907578",
   "metadata": {
    "ExecuteTime": {
     "end_time": "2024-04-20T20:01:06.774948Z",
     "start_time": "2024-04-20T20:01:06.707176Z"
    }
   },
   "outputs": [],
   "source": [
    "df.nunique()"
   ]
  },
  {
   "cell_type": "code",
   "execution_count": null,
   "id": "bbb93f70f41547b3",
   "metadata": {
    "ExecuteTime": {
     "end_time": "2024-04-20T20:01:20.311434Z",
     "start_time": "2024-04-20T20:01:20.234883Z"
    }
   },
   "outputs": [],
   "source": [
    "df.isnull().sum()"
   ]
  },
  {
   "cell_type": "markdown",
   "id": "cbc5227d8701528c",
   "metadata": {},
   "source": [
    "## Simple visualization"
   ]
  },
  {
   "cell_type": "markdown",
   "id": "cf51b97e1b8c8c0c",
   "metadata": {},
   "source": [
    "## Distinguish columns based on their cardinality"
   ]
  },
  {
   "cell_type": "code",
   "execution_count": null,
   "id": "79c790287997d5bf",
   "metadata": {
    "ExecuteTime": {
     "end_time": "2024-04-20T20:38:28.519897Z",
     "start_time": "2024-04-20T20:38:28.356895Z"
    }
   },
   "outputs": [],
   "source": [
    "categorical_columns = df.select_dtypes(include='object')\n",
    "\n",
    "counter_columns = []\n",
    "histogram_columns = []\n",
    "\n",
    "for column in categorical_columns:\n",
    "    if df[column].nunique() <= 20:\n",
    "        counter_columns.append(column)\n",
    "\n",
    "\n",
    "for column in df.columns:\n",
    "    if df[column].dtype == 'object':\n",
    "        continue\n",
    "\n",
    "    if df[column].nunique() <= 20:\n",
    "        counter_columns.append(column)\n",
    "    else:\n",
    "        histogram_columns.append(column)"
   ]
  },
  {
   "cell_type": "code",
   "execution_count": null,
   "id": "2e31afc986c04a5f",
   "metadata": {
    "ExecuteTime": {
     "end_time": "2024-04-20T20:52:45.415936Z",
     "start_time": "2024-04-20T20:52:45.398087Z"
    }
   },
   "outputs": [],
   "source": [
    "import seaborn as sns\n",
    "\n",
    "def plot_log_histograms(df, columns):\n",
    "    for column in columns:\n",
    "        plt.figure(figsize=(8, 6))\n",
    "        # Usuwamy wartości NaN\n",
    "        values = df[column].dropna()\n",
    "        # Dodajemy minimalną wartość + 1\n",
    "        min_value = values.min()\n",
    "        log_values = np.log(values - min_value + 1)\n",
    "        plt.hist(log_values, bins=20, edgecolor='black')\n",
    "        plt.title(f'Log Histogram for {column}')\n",
    "        plt.xlabel(column)\n",
    "        plt.ylabel('Frequency')\n",
    "        plt.show()\n",
    "        \n",
    "        \n",
    "def plot_histograms(df, columns):\n",
    "    for column in columns:\n",
    "        plt.figure(figsize=(8, 6))\n",
    "        df[column].plot(kind='hist', bins=20, edgecolor='black')\n",
    "        plt.title(f'Histogram for {column}')\n",
    "        plt.xlabel(column)\n",
    "        plt.ylabel('Frequency')\n",
    "        plt.show()\n",
    "\n",
    "\n",
    "def plot_bar_charts(df, columns):\n",
    "    for column in columns:\n",
    "        if df[column].nunique() > 20:\n",
    "            continue\n",
    "\n",
    "        plt.figure(figsize=(8, 6))\n",
    "        df[column].value_counts().plot(kind='bar')\n",
    "        plt.title(f'Bar Chart for {column}')\n",
    "        plt.xlabel(column)\n",
    "        plt.ylabel('Count')\n",
    "        plt.show()\n",
    "        \n",
    "def plot_nonzero_values(df, columns):\n",
    "    for column in columns:\n",
    "        non_zero_df = df[df[column] != 0]\n",
    "        plt.figure(figsize=(8, 6))\n",
    "        non_zero_df[column].plot(kind='hist', bins=20, edgecolor='black')\n",
    "        plt.title(f'Non-zero-values for {column}')\n",
    "        plt.xlabel(column)\n",
    "        plt.ylabel('Frequency')\n",
    "        plt.show()\n",
    "        \n",
    "\n",
    "def plot_by_positive_negative(df, columns, churn_column):\n",
    "    for column in columns:\n",
    "        positive_values = df[df[column] > 0]\n",
    "        negative_values = df[df[column] <= 0]\n",
    "\n",
    "        plt.figure(figsize=(10, 6))\n",
    "        sns.histplot(positive_values, x=column, hue=churn_column, multiple=\"stack\", bins=20, edgecolor='black')\n",
    "        plt.title(f'{column} Positive Values by Churn')\n",
    "        plt.xlabel(column)\n",
    "        plt.ylabel('Count')\n",
    "        plt.legend(title='Churn', labels=['Not Churn', 'Churn'])\n",
    "        plt.show()\n",
    "\n",
    "        plt.figure(figsize=(10, 6))\n",
    "        sns.histplot(negative_values, x=column, hue=churn_column, multiple=\"stack\", bins=20, edgecolor='black')\n",
    "        plt.title(f'{column} Negative Values by Churn')\n",
    "        plt.xlabel(column)\n",
    "        plt.ylabel('Count')\n",
    "        plt.legend(title='Churn', labels=['Not Churn', 'Churn'])\n",
    "        plt.show()"
   ]
  },
  {
   "cell_type": "code",
   "execution_count": null,
   "id": "a857523e0d08594",
   "metadata": {
    "ExecuteTime": {
     "end_time": "2024-04-20T21:00:16.383319Z",
     "start_time": "2024-04-20T21:00:15.175608Z"
    }
   },
   "outputs": [],
   "source": [
    "HISTOGRAM_COLUMNS = [\n",
    "    'TotalRecurringCharge',\n",
    "]\n",
    "\n",
    "COUNTER_COLUMNS = [\n",
    "\n",
    "]\n",
    "\n",
    "FAJNE_LOG_COLUMNS = [\n",
    "    'MonthlyRevenue',\n",
    "    'MonthlyMinutes',\n",
    "]\n",
    "\n",
    "USUNIECIE_ZER = [\n",
    "    \n",
    "]\n",
    "\n",
    "\n",
    "CURRENT_COLUMNS = [\n",
    "    'DirectorAssistedCalls',\n",
    "]\n",
    "\n",
    "\n",
    "\n",
    "\n",
    "plot_histograms(df, CURRENT_COLUMNS)\n",
    "print(\"==============================\")\n",
    "plot_log_histograms(df, CURRENT_COLUMNS)\n",
    "print(\"==============================\")\n",
    "# plot_bar_charts(df, LOG_COLUMNS)\n",
    "print(\"==============================\")\n",
    "plot_nonzero_values(df, CURRENT_COLUMNS)\n",
    "print(\"==============================\")\n",
    "plot_by_positive_negative(df, CURRENT_COLUMNS, 'Churn')\n",
    "print(\"==============================\")\n"
   ]
  },
  {
   "cell_type": "markdown",
   "id": "36b50a45356d1fc8",
   "metadata": {},
   "source": [
    "# Helper functions for visualization"
   ]
  },
  {
   "cell_type": "code",
   "execution_count": null,
   "id": "5b15ef29095fbc96",
   "metadata": {
    "ExecuteTime": {
     "end_time": "2024-04-20T19:38:08.489774Z",
     "start_time": "2024-04-20T19:38:07.951044Z"
    }
   },
   "outputs": [],
   "source": [
    "def plot_pie_charts(df, columns):\n",
    "    for column in columns:\n",
    "        plt.figure(figsize=(8, 6))\n",
    "        df[column].value_counts().plot(kind='pie', autopct='%1.1f%%')\n",
    "        plt.title(f'Pie Chart for {column}')\n",
    "        plt.ylabel('')\n",
    "        plt.show()\n",
    "\n",
    "plot_pie_charts(df, categorical_columns)"
   ]
  },
  {
   "cell_type": "code",
   "execution_count": null,
   "id": "16f848856ff05ec3",
   "metadata": {
    "ExecuteTime": {
     "end_time": "2024-04-20T20:16:53.194212Z",
     "start_time": "2024-04-20T20:16:48.164762Z"
    }
   },
   "outputs": [],
   "source": [
    "def plot_bar_charts(df, columns):\n",
    "    for column in columns:\n",
    "        if df[column].nunique() > 20:\n",
    "            continue\n",
    "            \n",
    "        plt.figure(figsize=(8, 6))\n",
    "        df[column].value_counts().plot(kind='bar')\n",
    "        plt.title(f'Bar Chart for {column}')\n",
    "        plt.xlabel(column)\n",
    "        plt.ylabel('Count')\n",
    "        plt.show()\n",
    "\n",
    "\n",
    "plot_bar_charts(df, counter_columns)"
   ]
  },
  {
   "cell_type": "code",
   "execution_count": null,
   "id": "1b4730002e941d1d",
   "metadata": {
    "ExecuteTime": {
     "end_time": "2024-04-20T20:17:14.817034Z",
     "start_time": "2024-04-20T20:17:09.003574Z"
    }
   },
   "outputs": [],
   "source": [
    "def plot_histograms(df, columns):\n",
    "    for column in columns:\n",
    "        plt.figure(figsize=(8, 6))\n",
    "        df[column].plot(kind='hist', bins=20, edgecolor='black')\n",
    "        plt.title(f'Histogram for {column}')\n",
    "        plt.xlabel(column)\n",
    "        plt.ylabel('Frequency')\n",
    "        plt.show()\n",
    "        \n",
    "plot_histograms(df, histogram_columns)"
   ]
  },
  {
   "cell_type": "code",
   "execution_count": null,
   "id": "b503fdd1d9cd8571",
   "metadata": {
    "ExecuteTime": {
     "end_time": "2024-04-20T19:48:05.547306Z",
     "start_time": "2024-04-20T19:43:19.962646Z"
    }
   },
   "outputs": [],
   "source": [
    "def plot_bar_and_column_charts(df, columns):\n",
    "    num_cols = len(columns)\n",
    "    fig, axes = plt.subplots(nrows=1, ncols=num_cols, figsize=(12, 6))\n",
    "\n",
    "    for i, column in enumerate(columns):\n",
    "        df[column].value_counts().plot(kind='bar', ax=axes[i])\n",
    "        axes[i].set_title(f'Bar Chart for {column}')\n",
    "        axes[i].set_xlabel(column)\n",
    "        axes[i].set_ylabel('Count')\n",
    "\n",
    "    plt.tight_layout()\n",
    "    plt.show()\n",
    "        \n",
    "    \n",
    "plot_bar_and_column_charts(df, categorical_columns)"
   ]
  },
  {
   "cell_type": "code",
   "execution_count": null,
   "id": "e7853dd7b5efc4fd",
   "metadata": {
    "ExecuteTime": {
     "end_time": "2024-04-20T20:20:42.919413Z",
     "start_time": "2024-04-20T20:20:37.828793Z"
    }
   },
   "outputs": [],
   "source": [
    "import seaborn as sns\n",
    "\n",
    "def plot_stripplot(df, columns):\n",
    "    for column in columns:\n",
    "        plt.figure(figsize=(8, 6))\n",
    "        sns.stripplot(x=df[column])\n",
    "        plt.title(f'Strip Plot for {column}')\n",
    "        plt.xlabel(column)\n",
    "        plt.ylabel('Count')\n",
    "        plt.show()\n",
    "    \n",
    "    \n",
    "plot_stripplot(df, histogram_columns)"
   ]
  },
  {
   "cell_type": "code",
   "execution_count": null,
   "id": "57229c2d434ce22d",
   "metadata": {
    "ExecuteTime": {
     "end_time": "2024-04-20T17:45:02.289072Z",
     "start_time": "2024-04-20T17:45:02.286009Z"
    }
   },
   "outputs": [],
   "source": [
    "columns = df.columns\n",
    "print(columns)"
   ]
  },
  {
   "cell_type": "code",
   "execution_count": null,
   "id": "7b555b1a1251217a",
   "metadata": {
    "ExecuteTime": {
     "end_time": "2024-04-20T20:58:36.997510Z",
     "start_time": "2024-04-20T20:58:36.993799Z"
    }
   },
   "outputs": [],
   "source": [
    "# churn = 'Churn'\n",
    "# \n",
    "# colors = {0: 'blue', 1: 'red'}\n",
    "# \n",
    "# %matplotlib inline\n",
    "# \n",
    "# for column1 in df.columns:\n",
    "#     for column2 in df.columns:\n",
    "#         if column1 == column2 or column1 == churn or column2 == churn:\n",
    "#             continue\n",
    "#        \n",
    "#         plt.figure(figsize=(10, 6))\n",
    "#         plt.scatter(df[column1], df[column2], color=df[churn].map(colors))\n",
    "#         plt.xlabel(column1)\n",
    "#         plt.ylabel(column2)\n",
    "#         plt.title('Wykres z kolorowaniem na podstawie churn')\n",
    "#         plt.legend(labels=['churn=0', 'churn=1'])\n",
    "#         plt.grid(True)\n",
    "#         plt.show() \n",
    "#         "
   ]
  },
  {
   "cell_type": "markdown",
   "id": "d2ef423b",
   "metadata": {},
   "source": [
    "Investigating data"
   ]
  },
  {
   "cell_type": "code",
   "execution_count": 17,
   "id": "615046d2",
   "metadata": {},
   "outputs": [
    {
     "data": {
      "text/html": [
       "<div>\n",
       "<style scoped>\n",
       "    .dataframe tbody tr th:only-of-type {\n",
       "        vertical-align: middle;\n",
       "    }\n",
       "\n",
       "    .dataframe tbody tr th {\n",
       "        vertical-align: top;\n",
       "    }\n",
       "\n",
       "    .dataframe thead th {\n",
       "        text-align: right;\n",
       "    }\n",
       "</style>\n",
       "<table border=\"1\" class=\"dataframe\">\n",
       "  <thead>\n",
       "    <tr style=\"text-align: right;\">\n",
       "      <th></th>\n",
       "      <th>0</th>\n",
       "    </tr>\n",
       "  </thead>\n",
       "  <tbody>\n",
       "    <tr>\n",
       "      <th>0</th>\n",
       "      <td>3000022</td>\n",
       "    </tr>\n",
       "    <tr>\n",
       "      <th>1</th>\n",
       "      <td>3000030</td>\n",
       "    </tr>\n",
       "    <tr>\n",
       "      <th>2</th>\n",
       "      <td>3000042</td>\n",
       "    </tr>\n",
       "    <tr>\n",
       "      <th>3</th>\n",
       "      <td>3000058</td>\n",
       "    </tr>\n",
       "    <tr>\n",
       "      <th>4</th>\n",
       "      <td>3000062</td>\n",
       "    </tr>\n",
       "    <tr>\n",
       "      <th>...</th>\n",
       "      <td>...</td>\n",
       "    </tr>\n",
       "    <tr>\n",
       "      <th>23022</th>\n",
       "      <td>3399898</td>\n",
       "    </tr>\n",
       "    <tr>\n",
       "      <th>23023</th>\n",
       "      <td>3399910</td>\n",
       "    </tr>\n",
       "    <tr>\n",
       "      <th>23024</th>\n",
       "      <td>3399922</td>\n",
       "    </tr>\n",
       "    <tr>\n",
       "      <th>23025</th>\n",
       "      <td>3399978</td>\n",
       "    </tr>\n",
       "    <tr>\n",
       "      <th>23026</th>\n",
       "      <td>3399994</td>\n",
       "    </tr>\n",
       "  </tbody>\n",
       "</table>\n",
       "<p>23027 rows × 1 columns</p>\n",
       "</div>"
      ],
      "text/plain": [
       "             0\n",
       "0      3000022\n",
       "1      3000030\n",
       "2      3000042\n",
       "3      3000058\n",
       "4      3000062\n",
       "...        ...\n",
       "23022  3399898\n",
       "23023  3399910\n",
       "23024  3399922\n",
       "23025  3399978\n",
       "23026  3399994\n",
       "\n",
       "[23027 rows x 1 columns]"
      ]
     },
     "execution_count": 17,
     "metadata": {},
     "output_type": "execute_result"
    }
   ],
   "source": [
    "clients_who_had_call_with_director = df[df['CustomerCareCalls'] > 0]\n",
    "\n",
    "clients_who_had_call_with_director = pd.DataFrame(clients_who_had_call_with_director['CustomerID'].unique())\n",
    "clients_who_had_call_with_director\n",
    "\n"
   ]
  },
  {
   "cell_type": "code",
   "execution_count": null,
   "id": "94a8a8e5",
   "metadata": {},
   "outputs": [],
   "source": []
  }
 ],
 "metadata": {
  "kernelspec": {
   "display_name": "Python 3",
   "language": "python",
   "name": "python3"
  },
  "language_info": {
   "codemirror_mode": {
    "name": "ipython",
    "version": 3
   },
   "file_extension": ".py",
   "mimetype": "text/x-python",
   "name": "python",
   "nbconvert_exporter": "python",
   "pygments_lexer": "ipython3",
   "version": "3.11.6"
  }
 },
 "nbformat": 4,
 "nbformat_minor": 5
}
